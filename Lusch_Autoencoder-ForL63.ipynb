{
 "cells": [
  {
   "cell_type": "code",
   "execution_count": 1,
   "metadata": {},
   "outputs": [
    {
     "name": "stderr",
     "output_type": "stream",
     "text": [
      "Using TensorFlow backend.\n"
     ]
    }
   ],
   "source": [
    "import numpy as np\n",
    "import matplotlib.pyplot as plt\n",
    "from keras.layers import Input, Dense\n",
    "from keras.models import Model\n",
    "from keras import regularizers\n",
    "from keras import initializers"
   ]
  },
  {
   "cell_type": "code",
   "execution_count": 2,
   "metadata": {},
   "outputs": [],
   "source": [
    "# the training data comes from a \n",
    "pend_data = np.load('L63_dat.npy')\n",
    "\n",
    "d_train=pend_data[0:10000,:,:]\n",
    "d_test=pend_data[9999:-1,:,:]"
   ]
  },
  {
   "cell_type": "code",
   "execution_count": 3,
   "metadata": {},
   "outputs": [
    {
     "data": {
      "text/plain": [
       "(800000, 50, 3)"
      ]
     },
     "execution_count": 3,
     "metadata": {},
     "output_type": "execute_result"
    }
   ],
   "source": [
    "d_train=np.reshape(d_train, (800000, 50, 3))\n",
    "np.shape(d_train)"
   ]
  },
  {
   "cell_type": "code",
   "execution_count": 4,
   "metadata": {},
   "outputs": [],
   "source": [
    "#d_train=d_train[:,:,0,:]\n",
    "timesteps=np.shape(d_train)[1]"
   ]
  },
  {
   "cell_type": "code",
   "execution_count": 5,
   "metadata": {},
   "outputs": [],
   "source": [
    "# this is the size of our encoded representations i.e. the width of the layers\n",
    "encoding_dim = 80\n",
    "\n",
    "# this is our input placeholder for the initial condition\n",
    "input_dat = Input(shape=(3,))\n",
    "\n",
    "# and we need another fifty placeholders for the trajectory\n",
    "traject = []\n",
    "for i in range(timesteps-1):\n",
    "    traject.append(Input(shape=(3,)))\n",
    "    \n",
    "# prepares the input list\n",
    "combined_in = traject\n",
    "combined_in.insert(0, input_dat)\n",
    "\n",
    "# gives weights to l2 regularization\n",
    "regularizer_weight = 1e-13\n",
    "\n",
    "# initialization of weights following Lusch\n",
    "a=1/np.sqrt(encoding_dim)\n",
    "init= initializers.TruncatedNormal(mean=0.0, stddev=a/2, seed=None)\n",
    "\n",
    "# \"encoded\" is the encoded representation of the input, and we add hidden layers\n",
    "HL_en1 = Dense(encoding_dim, \n",
    "                activation='relu',\n",
    "                kernel_regularizer=regularizers.l2(regularizer_weight),\n",
    "                #kernel_initializer=initializers.TruncatedNormal(mean=0.0, stddev=1/2.8, seed=None),\n",
    "                bias_initializer='zeros',\n",
    "                use_bias=True)\n",
    "\n",
    "HL_en2 = Dense(encoding_dim, \n",
    "                activation='relu',\n",
    "                kernel_regularizer=regularizers.l2(regularizer_weight),\n",
    "                #kernel_initializer=init,\n",
    "                bias_initializer='zeros',\n",
    "                use_bias=True)\n",
    "\n",
    "encoded = Dense(encoding_dim, \n",
    "                activation='linear',\n",
    "                kernel_regularizer=regularizers.l2(regularizer_weight),\n",
    "                #kernel_initializer=init,\n",
    "                bias_initializer='zeros',\n",
    "                use_bias=True)\n",
    "\n",
    "# the koopman operator is supposed to just be a matrix, so biases are disabled\n",
    "koopman = Dense(encoding_dim,\n",
    "                activation='linear',\n",
    "                kernel_regularizer=regularizers.l2(regularizer_weight),\n",
    "                #kernel_initializer=init,\n",
    "                use_bias=False)\n",
    "\n",
    "# add hidden layers for decoding\n",
    "HL_de1 = Dense(encoding_dim, \n",
    "              activation='relu',\n",
    "              kernel_regularizer=regularizers.l2(regularizer_weight),\n",
    "              #kernel_initializer=init,\n",
    "              bias_initializer='zeros',\n",
    "              use_bias=True)\n",
    "\n",
    "HL_de2 = Dense(encoding_dim, \n",
    "              activation='relu',\n",
    "              kernel_regularizer=regularizers.l2(regularizer_weight),\n",
    "              #kernel_initializer=init,\n",
    "              bias_initializer='zeros',\n",
    "              use_bias=True)\n",
    "\n",
    "# \"decoded\" is the reconstruction of the input\n",
    "decoded = Dense(3,\n",
    "                activation='linear',\n",
    "                kernel_regularizer=regularizers.l2(regularizer_weight),\n",
    "                use_bias=True)"
   ]
  },
  {
   "cell_type": "code",
   "execution_count": 6,
   "metadata": {},
   "outputs": [
    {
     "data": {
      "text/plain": [
       "(50,)"
      ]
     },
     "execution_count": 6,
     "metadata": {},
     "output_type": "execute_result"
    }
   ],
   "source": [
    "np.shape(combined_in)"
   ]
  },
  {
   "cell_type": "code",
   "execution_count": 7,
   "metadata": {},
   "outputs": [],
   "source": [
    "# calculates the 1st, 2nd, ..., nth application of the Koopman layer (koopman^i(encoded))\n",
    "# this corresponds to the arguments of L_pred in Lusch, 2018\n",
    "\n",
    "K_ton=[encoded(HL_en2(HL_en1(input_dat)))]\n",
    "for i in range(timesteps-1):\n",
    "    K_ton.append(koopman(K_ton[-1]))\n",
    "    \n",
    "# remove the first element which is just decoded(encoded(input))\n",
    "K_ton.pop(0)\n",
    "\n",
    "# decodes these data points to compare with actual trajectory\n",
    "DK_ton=[]\n",
    "for e in K_ton:\n",
    "    DK_ton.append(decoded(HL_de2(HL_de1(e))))"
   ]
  },
  {
   "cell_type": "code",
   "execution_count": 8,
   "metadata": {},
   "outputs": [
    {
     "data": {
      "text/plain": [
       "50"
      ]
     },
     "execution_count": 8,
     "metadata": {},
     "output_type": "execute_result"
    }
   ],
   "source": [
    "# we need an output list of the same dimension as inputs for the autoencoder to train\n",
    "# the outputs include the initial condition encoded and decoded, as well as the outcome of \n",
    "# up to fifty applications of the koopman operator\n",
    "combined_out=DK_ton\n",
    "if len(combined_out)==timesteps-1:\n",
    "    combined_out.insert(0,decoded(HL_de2(HL_de1(encoded(HL_en2(HL_en1(input_dat)))))))\n",
    "len(combined_out)"
   ]
  },
  {
   "cell_type": "code",
   "execution_count": 9,
   "metadata": {},
   "outputs": [],
   "source": [
    "# this model maps a trajectory to its projection based on the initial condition\n",
    "autoencoder = Model(inputs=combined_in, outputs=combined_out  )"
   ]
  },
  {
   "cell_type": "code",
   "execution_count": 10,
   "metadata": {},
   "outputs": [],
   "source": [
    "# to compile, prepare the weights given to different loss terms, \n",
    "# these are 1 for L_recon, 1/50 for each term in L_pred\n",
    "weights=[0.02]*(timesteps-1)\n",
    "weights.insert(0, 1)\n",
    "\n",
    "# now we compile with this list of weights\n",
    "autoencoder.compile(optimizer='adagrad', loss='mse', loss_weights=weights)"
   ]
  },
  {
   "cell_type": "code",
   "execution_count": 11,
   "metadata": {},
   "outputs": [],
   "source": [
    "# before training, massage the data format a bit, as the model expects a list with 51\n",
    "# arrays of dimension (trajectory_number, 2) each\n",
    "t=d_train.transpose((1,0,2))\n",
    "d=list(t)"
   ]
  },
  {
   "cell_type": "code",
   "execution_count": 12,
   "metadata": {
    "scrolled": true
   },
   "outputs": [
    {
     "name": "stdout",
     "output_type": "stream",
     "text": [
      "Train on 400000 samples, validate on 400000 samples\n",
      "Epoch 1/50\n",
      "400000/400000 [==============================] - 79s 197us/step - loss: 241.0119 - dense_7_loss: 2307.2439 - val_loss: 14.7205 - val_dense_7_loss: 37.7793\n",
      "Epoch 2/50\n",
      "400000/400000 [==============================] - 74s 185us/step - loss: 11.5739 - dense_7_loss: 32.9901 - val_loss: 9.4293 - val_dense_7_loss: 29.3032\n",
      "Epoch 3/50\n",
      "400000/400000 [==============================] - 74s 184us/step - loss: 8.3099 - dense_7_loss: 26.8370 - val_loss: 7.5791 - val_dense_7_loss: 24.5384\n",
      "Epoch 4/50\n",
      "400000/400000 [==============================] - 74s 184us/step - loss: 6.6806 - dense_7_loss: 22.2059 - val_loss: 6.1472 - val_dense_7_loss: 20.4178\n",
      "Epoch 5/50\n",
      "400000/400000 [==============================] - 74s 185us/step - loss: 5.6983 - dense_7_loss: 18.9736 - val_loss: 5.3704 - val_dense_7_loss: 17.8563\n",
      "Epoch 6/50\n",
      "400000/400000 [==============================] - 74s 185us/step - loss: 5.0660 - dense_7_loss: 16.7708 - val_loss: 4.8018 - val_dense_7_loss: 15.8762\n",
      "Epoch 7/50\n",
      "400000/400000 [==============================] - 74s 185us/step - loss: 4.6035 - dense_7_loss: 15.0674 - val_loss: 4.3893 - val_dense_7_loss: 14.3519\n",
      "Epoch 8/50\n",
      "400000/400000 [==============================] - 74s 184us/step - loss: 4.2317 - dense_7_loss: 13.6663 - val_loss: 4.0405 - val_dense_7_loss: 12.9904\n",
      "Epoch 9/50\n",
      "400000/400000 [==============================] - 74s 184us/step - loss: 3.8984 - dense_7_loss: 12.4196 - val_loss: 3.7211 - val_dense_7_loss: 11.7548\n",
      "Epoch 10/50\n",
      "400000/400000 [==============================] - 74s 185us/step - loss: 3.6045 - dense_7_loss: 11.1932 - val_loss: 3.4769 - val_dense_7_loss: 10.5887\n",
      "Epoch 11/50\n",
      "400000/400000 [==============================] - 75s 187us/step - loss: 3.3447 - dense_7_loss: 10.1201 - val_loss: 3.2408 - val_dense_7_loss: 9.7114\n",
      "Epoch 12/50\n",
      "400000/400000 [==============================] - 76s 190us/step - loss: 3.0994 - dense_7_loss: 9.2820 - val_loss: 3.0198 - val_dense_7_loss: 9.0400\n",
      "Epoch 13/50\n",
      "400000/400000 [==============================] - 76s 190us/step - loss: 2.8906 - dense_7_loss: 8.5584 - val_loss: 2.8242 - val_dense_7_loss: 8.3564\n",
      "Epoch 14/50\n",
      "400000/400000 [==============================] - 75s 188us/step - loss: 2.7255 - dense_7_loss: 8.0002 - val_loss: 2.6723 - val_dense_7_loss: 7.8828\n",
      "Epoch 15/50\n",
      "400000/400000 [==============================] - 75s 188us/step - loss: 2.5889 - dense_7_loss: 7.5497 - val_loss: 2.5370 - val_dense_7_loss: 7.4449\n",
      "Epoch 16/50\n",
      "400000/400000 [==============================] - 77s 192us/step - loss: 2.4707 - dense_7_loss: 7.1408 - val_loss: 2.4230 - val_dense_7_loss: 7.0352\n",
      "Epoch 17/50\n",
      "400000/400000 [==============================] - 75s 188us/step - loss: 2.3647 - dense_7_loss: 6.7689 - val_loss: 2.3150 - val_dense_7_loss: 6.6554\n",
      "Epoch 18/50\n",
      "400000/400000 [==============================] - 76s 189us/step - loss: 2.2694 - dense_7_loss: 6.4402 - val_loss: 2.2242 - val_dense_7_loss: 6.3321\n",
      "Epoch 19/50\n",
      "400000/400000 [==============================] - 77s 193us/step - loss: 2.1846 - dense_7_loss: 6.1488 - val_loss: 2.1430 - val_dense_7_loss: 6.0511\n",
      "Epoch 20/50\n",
      "400000/400000 [==============================] - 79s 197us/step - loss: 2.1061 - dense_7_loss: 5.8629 - val_loss: 2.0663 - val_dense_7_loss: 5.7570\n",
      "Epoch 21/50\n",
      "400000/400000 [==============================] - 77s 193us/step - loss: 2.0306 - dense_7_loss: 5.5848 - val_loss: 1.9943 - val_dense_7_loss: 5.4931\n",
      "Epoch 22/50\n",
      "400000/400000 [==============================] - 78s 196us/step - loss: 1.9616 - dense_7_loss: 5.3295 - val_loss: 1.9281 - val_dense_7_loss: 5.2444\n",
      "Epoch 23/50\n",
      "400000/400000 [==============================] - 77s 193us/step - loss: 1.8991 - dense_7_loss: 5.1073 - val_loss: 1.8682 - val_dense_7_loss: 5.0271\n",
      "Epoch 24/50\n",
      "400000/400000 [==============================] - 74s 185us/step - loss: 1.8416 - dense_7_loss: 4.9046 - val_loss: 1.8137 - val_dense_7_loss: 4.8222\n",
      "Epoch 25/50\n",
      "400000/400000 [==============================] - 74s 185us/step - loss: 1.7890 - dense_7_loss: 4.7228 - val_loss: 1.7633 - val_dense_7_loss: 4.6489\n",
      "Epoch 26/50\n",
      "400000/400000 [==============================] - 74s 186us/step - loss: 1.7405 - dense_7_loss: 4.5607 - val_loss: 1.7170 - val_dense_7_loss: 4.4969\n",
      "Epoch 27/50\n",
      "400000/400000 [==============================] - 74s 184us/step - loss: 1.6958 - dense_7_loss: 4.4140 - val_loss: 1.6742 - val_dense_7_loss: 4.3546\n",
      "Epoch 28/50\n",
      "400000/400000 [==============================] - 73s 184us/step - loss: 1.6541 - dense_7_loss: 4.2775 - val_loss: 1.6339 - val_dense_7_loss: 4.2184\n",
      "Epoch 29/50\n",
      "400000/400000 [==============================] - 76s 189us/step - loss: 1.6147 - dense_7_loss: 4.1495 - val_loss: 1.5953 - val_dense_7_loss: 4.0893\n",
      "Epoch 30/50\n",
      "400000/400000 [==============================] - 76s 190us/step - loss: 1.5771 - dense_7_loss: 4.0324 - val_loss: 1.5587 - val_dense_7_loss: 3.9759\n",
      "Epoch 31/50\n",
      "400000/400000 [==============================] - 75s 187us/step - loss: 1.5416 - dense_7_loss: 3.9215 - val_loss: 1.5242 - val_dense_7_loss: 3.8654\n",
      "Epoch 32/50\n",
      "400000/400000 [==============================] - 73s 183us/step - loss: 1.5086 - dense_7_loss: 3.8190 - val_loss: 1.4925 - val_dense_7_loss: 3.7660\n",
      "Epoch 33/50\n",
      "400000/400000 [==============================] - 73s 183us/step - loss: 1.4779 - dense_7_loss: 3.7259 - val_loss: 1.4629 - val_dense_7_loss: 3.6758\n",
      "Epoch 34/50\n",
      "400000/400000 [==============================] - 74s 186us/step - loss: 1.4491 - dense_7_loss: 3.6409 - val_loss: 1.4351 - val_dense_7_loss: 3.5916\n",
      "Epoch 35/50\n",
      "400000/400000 [==============================] - 73s 183us/step - loss: 1.4219 - dense_7_loss: 3.5613 - val_loss: 1.4092 - val_dense_7_loss: 3.5155\n",
      "Epoch 36/50\n",
      "400000/400000 [==============================] - 74s 185us/step - loss: 1.3962 - dense_7_loss: 3.4873 - val_loss: 1.3843 - val_dense_7_loss: 3.4453\n",
      "Epoch 37/50\n",
      "400000/400000 [==============================] - 74s 184us/step - loss: 1.3718 - dense_7_loss: 3.4156 - val_loss: 1.3605 - val_dense_7_loss: 3.3748\n",
      "Epoch 38/50\n",
      "400000/400000 [==============================] - 74s 185us/step - loss: 1.3485 - dense_7_loss: 3.3471 - val_loss: 1.3380 - val_dense_7_loss: 3.3109\n",
      "Epoch 39/50\n",
      "400000/400000 [==============================] - 74s 185us/step - loss: 1.3264 - dense_7_loss: 3.2825 - val_loss: 1.3164 - val_dense_7_loss: 3.2482\n",
      "Epoch 40/50\n",
      "400000/400000 [==============================] - 73s 183us/step - loss: 1.3053 - dense_7_loss: 3.2206 - val_loss: 1.2961 - val_dense_7_loss: 3.1878\n",
      "Epoch 41/50\n",
      "400000/400000 [==============================] - 73s 183us/step - loss: 1.2852 - dense_7_loss: 3.1616 - val_loss: 1.2767 - val_dense_7_loss: 3.1304\n",
      "Epoch 42/50\n",
      "400000/400000 [==============================] - 77s 192us/step - loss: 1.2660 - dense_7_loss: 3.1059 - val_loss: 1.2581 - val_dense_7_loss: 3.0753\n",
      "Epoch 43/50\n",
      "400000/400000 [==============================] - 82s 206us/step - loss: 1.2476 - dense_7_loss: 3.0533 - val_loss: 1.2405 - val_dense_7_loss: 3.0252\n",
      "Epoch 44/50\n",
      "400000/400000 [==============================] - 82s 205us/step - loss: 1.2298 - dense_7_loss: 3.0024 - val_loss: 1.2231 - val_dense_7_loss: 2.9747\n",
      "Epoch 45/50\n",
      "400000/400000 [==============================] - 83s 207us/step - loss: 1.2127 - dense_7_loss: 2.9536 - val_loss: 1.2062 - val_dense_7_loss: 2.9258\n",
      "Epoch 46/50\n",
      "400000/400000 [==============================] - 84s 211us/step - loss: 1.1959 - dense_7_loss: 2.9047 - val_loss: 1.1896 - val_dense_7_loss: 2.8784\n",
      "Epoch 47/50\n",
      "400000/400000 [==============================] - 83s 207us/step - loss: 1.1797 - dense_7_loss: 2.8569 - val_loss: 1.1734 - val_dense_7_loss: 2.8340\n",
      "Epoch 48/50\n",
      "400000/400000 [==============================] - 86s 215us/step - loss: 1.1640 - dense_7_loss: 2.8117 - val_loss: 1.1577 - val_dense_7_loss: 2.7910\n",
      "Epoch 49/50\n",
      "400000/400000 [==============================] - 84s 209us/step - loss: 1.1486 - dense_7_loss: 2.7680 - val_loss: 1.1422 - val_dense_7_loss: 2.7482\n",
      "Epoch 50/50\n",
      "400000/400000 [==============================] - 84s 211us/step - loss: 1.1337 - dense_7_loss: 2.7252 - val_loss: 1.1270 - val_dense_7_loss: 2.7082\n"
     ]
    },
    {
     "data": {
      "text/plain": [
       "<keras.callbacks.callbacks.History at 0x1a36afef0>"
      ]
     },
     "execution_count": 12,
     "metadata": {},
     "output_type": "execute_result"
    }
   ],
   "source": [
    "autoencoder.fit(d,\n",
    "                d,\n",
    "                epochs=50,\n",
    "                batch_size=128,\n",
    "                shuffle=False,\n",
    "                validation_split=0.5)"
   ]
  },
  {
   "cell_type": "code",
   "execution_count": 13,
   "metadata": {
    "scrolled": true
   },
   "outputs": [
    {
     "data": {
      "text/plain": [
       "(5000, 4000, 3)"
      ]
     },
     "execution_count": 13,
     "metadata": {},
     "output_type": "execute_result"
    }
   ],
   "source": [
    "np.shape(d_test)"
   ]
  },
  {
   "cell_type": "code",
   "execution_count": 14,
   "metadata": {},
   "outputs": [],
   "source": [
    "d_test_re=np.reshape(d_test, (400000,50,3))\n",
    "test=(d_test_re[0:80,:,:])\n",
    "test=list(test.transpose(1,0,2))"
   ]
  },
  {
   "cell_type": "code",
   "execution_count": 25,
   "metadata": {},
   "outputs": [],
   "source": [
    "p=autoencoder.predict(test)"
   ]
  },
  {
   "cell_type": "code",
   "execution_count": 26,
   "metadata": {},
   "outputs": [],
   "source": [
    "p=np.array(p)\n",
    "p=p.transpose(1,0,2)\n",
    "one_traj=np.reshape(p, (4000, 3))"
   ]
  },
  {
   "cell_type": "code",
   "execution_count": 27,
   "metadata": {},
   "outputs": [],
   "source": [
    "#plt.legend(['prediction_x1', 'prediction_x2', 'actual_x1', 'actual_x2'])\n",
    "#plt.xlabel(\"time[steps]\")\n",
    "#plt.ylabel('x1: position, x2:velocity')\n",
    "#print(np.array(p).transpose(1,0,2)[0,:,:])"
   ]
  },
  {
   "cell_type": "code",
   "execution_count": 28,
   "metadata": {},
   "outputs": [
    {
     "data": {
      "text/plain": [
       "(5000, 4000, 3)"
      ]
     },
     "execution_count": 28,
     "metadata": {},
     "output_type": "execute_result"
    }
   ],
   "source": [
    "np.shape(d_test)"
   ]
  },
  {
   "cell_type": "code",
   "execution_count": 29,
   "metadata": {},
   "outputs": [],
   "source": [
    "real_traj=d_test[0,:,:]"
   ]
  },
  {
   "cell_type": "code",
   "execution_count": 62,
   "metadata": {},
   "outputs": [
    {
     "data": {
      "image/png": "[encoded data removed]",
      "text/plain": [
       "<Figure size 432x288 with 1 Axes>"
      ]
     },
     "metadata": {
      "needs_background": "light"
     },
     "output_type": "display_data"
    }
   ],
   "source": [
    "from mpl_toolkits.mplot3d import Axes3D\n",
    "fig = plt.figure()\n",
    "ax = fig.gca(projection='3d')\n",
    "\n",
    "start=1900\n",
    "stop=start+50\n",
    "ax.scatter(one_traj[start:stop, 0], one_traj[start:stop, 1], one_traj[start:stop, 2], c=np.linspace(1,4000,len(one_traj[start:stop, 0])))\n",
    "#ax.scatter(real_traj[start:stop,0],real_traj[start:stop,1],real_traj[start:stop,2], c=np.linspace(1,4000,len(one_traj[start:stop, 0])))\n",
    "plt.draw()"
   ]
  },
  {
   "cell_type": "code",
   "execution_count": null,
   "metadata": {},
   "outputs": [],
   "source": []
  },
  {
   "cell_type": "code",
   "execution_count": 21,
   "metadata": {},
   "outputs": [],
   "source": [
    "# why the short time interval lusch et al use? \n",
    "\n",
    "# do decoded() and encoded() count as hidden layers in the sense that \n",
    "# lusch et al say they use two hidden layers in the encoder and decoder?\n",
    "\n",
    "# any more elegant way than the lists I used for inputs and outputs?\n",
    "\n",
    "# nan "
   ]
  },
  {
   "cell_type": "code",
   "execution_count": 22,
   "metadata": {},
   "outputs": [],
   "source": [
    "autoencoder.save('savemodel.h5')"
   ]
  },
  {
   "cell_type": "code",
   "execution_count": null,
   "metadata": {},
   "outputs": [],
   "source": []
  }
 ],
 "metadata": {
  "kernelspec": {
   "display_name": "Python 3",
   "language": "python",
   "name": "python3"
  },
  "language_info": {
   "codemirror_mode": {
    "name": "ipython",
    "version": 3
   },
   "file_extension": ".py",
   "mimetype": "text/x-python",
   "name": "python",
   "nbconvert_exporter": "python",
   "pygments_lexer": "ipython3",
   "version": "3.7.2"
  }
 },
 "nbformat": 4,
 "nbformat_minor": 2
}
