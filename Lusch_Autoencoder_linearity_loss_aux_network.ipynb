{
 "cells": [
  {
   "cell_type": "code",
   "execution_count": 2,
   "metadata": {},
   "outputs": [
    {
     "name": "stderr",
     "output_type": "stream",
     "text": [
      "Using TensorFlow backend.\n"
     ]
    }
   ],
   "source": [
    "import numpy as np\n",
    "import matplotlib.pyplot as plt\n",
    "import tensorflow as tf\n",
    "from keras.layers import Input, Dense, Subtract, Add, Lambda, Dot, Concatenate\n",
    "from keras.models import Model\n",
    "from keras import layers\n",
    "from keras import regularizers\n",
    "from keras import initializers\n",
    "from keras import backend as K\n",
    "from keras.models import load_model\n",
    "from keras.constraints import UnitNorm"
   ]
  },
  {
   "cell_type": "code",
   "execution_count": 3,
   "metadata": {},
   "outputs": [],
   "source": [
    "# the training data comes from a \n",
    "pend_data = np.load('pend_dat.npy')\n",
    "\n",
    "d_train=pend_data[:,0:10000,:,:]\n",
    "d_test=pend_data[:,10000:-1,:,:]"
   ]
  },
  {
   "cell_type": "code",
   "execution_count": 4,
   "metadata": {},
   "outputs": [
    {
     "data": {
      "text/plain": [
       "(1280000, 51, 2)"
      ]
     },
     "execution_count": 4,
     "metadata": {},
     "output_type": "execute_result"
    }
   ],
   "source": [
    "#d_train=d_train[:,:,0,:]\n",
    "d_train=d_train.reshape((128*10000, 51,2))\n",
    "np.shape(d_train)"
   ]
  },
  {
   "cell_type": "code",
   "execution_count": 5,
   "metadata": {
    "scrolled": true
   },
   "outputs": [
    {
     "data": {
      "text/plain": [
       "(1280000, 1, 2)"
      ]
     },
     "execution_count": 5,
     "metadata": {},
     "output_type": "execute_result"
    }
   ],
   "source": [
    "zeros=np.zeros((np.shape(d_train)[0],1,2))\n",
    "np.shape(zeros)"
   ]
  },
  {
   "cell_type": "code",
   "execution_count": 6,
   "metadata": {},
   "outputs": [],
   "source": [
    "d_train=np.concatenate((d_train, zeros), axis=1)"
   ]
  },
  {
   "cell_type": "code",
   "execution_count": 7,
   "metadata": {},
   "outputs": [
    {
     "data": {
      "text/plain": [
       "(1280000, 52, 2)"
      ]
     },
     "execution_count": 7,
     "metadata": {},
     "output_type": "execute_result"
    }
   ],
   "source": [
    "np.shape(d_train)"
   ]
  },
  {
   "cell_type": "code",
   "execution_count": 8,
   "metadata": {},
   "outputs": [],
   "source": [
    "# this is the size of our encoded representations i.e. the width of the layers\n",
    "encoding_dim = 80\n",
    "koop_dim = 2\n",
    "# this is our input placeholder for the initial condition\n",
    "input_dat = Input(shape=(2,))\n",
    "\n",
    "# and we need another fifty placeholders for the trajectory\n",
    "traject = []\n",
    "for i in range(51):\n",
    "    traject.append(Input(shape=(2,)))\n",
    "    \n",
    "# prepares the input list\n",
    "combined_in = traject\n",
    "combined_in.insert(0, input_dat)\n",
    "\n",
    "# gives weights to l2 regularization\n",
    "regularizer_weight = 1e-14\n",
    "\n",
    "# initialization of weights following Lusch\n",
    "a=1/np.sqrt(10)\n",
    "init= initializers.TruncatedNormal(mean=0.0, stddev=a, seed=None)\n",
    "\n",
    "# \"encoded\" is the encoded representation of the input, and we add hidden layers\n",
    "HL_en1 = Dense(encoding_dim, \n",
    "                activation='relu',\n",
    "                kernel_regularizer=regularizers.l2(regularizer_weight),\n",
    "                #kernel_initializer=initializers.TruncatedNormal(mean=0.0, stddev=1/2.8, seed=None),\n",
    "                bias_initializer='zeros',\n",
    "                use_bias=True)\n",
    "\n",
    "HL_en2 = Dense(encoding_dim, \n",
    "                activation='relu',\n",
    "                kernel_regularizer=regularizers.l2(regularizer_weight),\n",
    "                #kernel_initializer=init,\n",
    "                bias_initializer='zeros',\n",
    "                use_bias=True)\n",
    "\n",
    "encoded = Dense(koop_dim, \n",
    "                activation='linear',\n",
    "                kernel_regularizer=regularizers.l2(regularizer_weight),\n",
    "                kernel_initializer=init,\n",
    "                bias_initializer='zeros',\n",
    "                use_bias=True)\n",
    "\n",
    "# the koopman operator is supposed to just be a matrix, so biases are disabled\n",
    "# also, if regularizers are turned on, eigenvalues on average take absolute values smaller than unity.\n",
    "koopman = Dense(koop_dim,\n",
    "                activation='linear',\n",
    "                #kernel_constraint= UnitNorm(axis=0),\n",
    "                #kernel_regularizer=regularizers.l2(regularizer_weight),\n",
    "                #kernel_initializer=init,\n",
    "                use_bias=False)\n",
    "\n",
    "# add hidden layers for decoding\n",
    "HL_de1 = Dense(encoding_dim, \n",
    "              activation='relu',\n",
    "              kernel_regularizer=regularizers.l2(regularizer_weight),\n",
    "              #kernel_initializer=init,\n",
    "              bias_initializer='zeros',\n",
    "              use_bias=True)\n",
    "\n",
    "HL_de2 = Dense(encoding_dim, \n",
    "              activation='relu',\n",
    "              kernel_regularizer=regularizers.l2(regularizer_weight),\n",
    "              #kernel_initializer=init,\n",
    "              bias_initializer='zeros',\n",
    "              use_bias=True)\n",
    "\n",
    "# \"decoded\" is the reconstruction of the input\n",
    "decoded = Dense(2,\n",
    "                activation='linear',\n",
    "                kernel_regularizer=regularizers.l2(regularizer_weight),\n",
    "                use_bias=True)\n",
    "\n",
    "redim = Dense(2,\n",
    "                activation='linear',\n",
    "                #kernel_regularizer=regularizers.l2(regularizer_weight),\n",
    "                kernel_initializer=initializers.Ones(),\n",
    "                use_bias=False,\n",
    "                trainable=False)\n",
    "\n",
    "\n",
    "aux1=Dense(140, \n",
    "          activation='relu',\n",
    "          use_bias=True)\n",
    "\n",
    "aux2=Dense(1, \n",
    "          activation='linear',\n",
    "          use_bias=True)\n"
   ]
  },
  {
   "cell_type": "code",
   "execution_count": 9,
   "metadata": {},
   "outputs": [],
   "source": [
    "merged = layers.concatenate([encoded(HL_en2(HL_en1(input_dat))), aux2(aux1(encoded(HL_en2(HL_en1(input_dat)))))])"
   ]
  },
  {
   "cell_type": "code",
   "execution_count": 10,
   "metadata": {},
   "outputs": [
    {
     "data": {
      "text/plain": [
       "50"
      ]
     },
     "execution_count": 10,
     "metadata": {},
     "output_type": "execute_result"
    }
   ],
   "source": [
    "# calculates the 1st, 2nd, ..., nth application of the Koopman layer (koopman^i(encoded))\n",
    "# this corresponds to the arguments of L_pred in Lusch, 2018\n",
    "\n",
    "K_ton=[encoded(HL_en2(HL_en1(input_dat)))]\n",
    "#K_ton=[merged]\n",
    "#K_ton.append(koopman(K_ton[-1]))\n",
    "for i in range(50):\n",
    "    K_ton.append(koopman(layers.concatenate([K_ton[-1], aux2(aux1(encoded(HL_en2(HL_en1(input_dat)))))])))\n",
    "\n",
    "\n",
    "# remove the first element which is just decoded(encoded(input))\n",
    "K_ton.pop(0)\n",
    "\n",
    "# decodes these data points to compare with actual trajectory\n",
    "DK_ton=[]\n",
    "for e in K_ton:\n",
    "    DK_ton.append(decoded(HL_de2(HL_de1(e))))\n",
    "len(DK_ton)"
   ]
  },
  {
   "cell_type": "code",
   "execution_count": 11,
   "metadata": {},
   "outputs": [
    {
     "data": {
      "text/plain": [
       "<tf.Tensor 'input_52:0' shape=(None, 2) dtype=float32>"
      ]
     },
     "execution_count": 11,
     "metadata": {},
     "output_type": "execute_result"
    }
   ],
   "source": [
    "combined_in[-1]"
   ]
  },
  {
   "cell_type": "code",
   "execution_count": 12,
   "metadata": {},
   "outputs": [
    {
     "data": {
      "text/plain": [
       "<tf.Tensor 'dense_7_50/BiasAdd:0' shape=(None, 2) dtype=float32>"
      ]
     },
     "execution_count": 12,
     "metadata": {},
     "output_type": "execute_result"
    }
   ],
   "source": [
    "decoded(HL_de2(HL_de1(encoded(HL_en2(HL_en1(input_dat))))))"
   ]
  },
  {
   "cell_type": "code",
   "execution_count": 13,
   "metadata": {
    "scrolled": true
   },
   "outputs": [
    {
     "data": {
      "text/plain": [
       "52"
      ]
     },
     "execution_count": 13,
     "metadata": {},
     "output_type": "execute_result"
    }
   ],
   "source": [
    "\n",
    "# we need an output list of the same dimension as inputs for the autoencoder to train\n",
    "# the outputs include the initial condition encoded and decoded, as well as the outcome of \n",
    "# up to fifty applications of the koopman operator\n",
    "combined_out=DK_ton\n",
    "\n",
    "def absolute(x):\n",
    "        absol_x = K.abs(x)\n",
    "        return absol_x\n",
    "\n",
    "if len(combined_out)==50:\n",
    "    combined_out.insert(0,decoded(HL_de2(HL_de1(encoded(HL_en2(HL_en1(input_dat)))))))\n",
    "    \n",
    "    linsum=Lambda(absolute)(Subtract()([encoded(HL_en2(HL_en1(combined_in[1]))), koopman(layers.concatenate([encoded(HL_en2(HL_en1(combined_in[0]))),aux2(aux1(encoded(HL_en2(HL_en1(input_dat)))))]))]))\n",
    "    #linsum=Subtract()([encoded(HL_en2(HL_en1(combined_in[1]))),koopman(encoded(HL_en2(HL_en1(combined_in[0]))))])\n",
    "    for i in range(50-2):\n",
    "        #linsum=Add()([linsum, Lambda(absolute)(Subtract()([encoded(HL_en2(HL_en1(combined_in[i+2]))),koopman(encoded(HL_en2(HL_en1(combined_in[i+1]))))]))])\n",
    "        #linsum=Add()([linsum, Subtract()([encoded(HL_en2(HL_en1(combined_in[i+2]))),koopman(encoded(HL_en2(HL_en1(combined_in[i+1]))))])])\n",
    "        linsum=Add()([linsum, Lambda(absolute)(Subtract()([encoded(HL_en2(HL_en1(combined_in[i+2]))),koopman(layers.concatenate([encoded(HL_en2(HL_en1(combined_in[0]))),aux2(aux1(encoded(HL_en2(HL_en1(combined_in[i+1])))))]))]))])\n",
    "    combined_out.insert(len(combined_out), redim(linsum))\n",
    "\n",
    "len(combined_out)"
   ]
  },
  {
   "cell_type": "code",
   "execution_count": 14,
   "metadata": {},
   "outputs": [],
   "source": [
    "#tf.constant([tf.math.reduce_sum(linsum),tf.math.reduce_sum(linsum)])"
   ]
  },
  {
   "cell_type": "code",
   "execution_count": 15,
   "metadata": {},
   "outputs": [
    {
     "data": {
      "text/plain": [
       "<tf.Tensor 'dense_8/MatMul:0' shape=(None, 2) dtype=float32>"
      ]
     },
     "execution_count": 15,
     "metadata": {},
     "output_type": "execute_result"
    }
   ],
   "source": [
    "combined_out[-1]"
   ]
  },
  {
   "cell_type": "code",
   "execution_count": 98,
   "metadata": {},
   "outputs": [
    {
     "ename": "ValueError",
     "evalue": "Dimensions must be equal, but are 20 and 80 for 'Mul_54' (op: 'Mul') with input shapes: [?,20], [2,80].",
     "output_type": "error",
     "traceback": [
      "\u001b[0;31m---------------------------------------------------------------------------\u001b[0m",
      "\u001b[0;31mInvalidArgumentError\u001b[0m                      Traceback (most recent call last)",
      "\u001b[0;32m/usr/local/lib/python3.7/site-packages/tensorflow_core/python/framework/ops.py\u001b[0m in \u001b[0;36m_create_c_op\u001b[0;34m(graph, node_def, inputs, control_inputs)\u001b[0m\n\u001b[1;32m   1618\u001b[0m   \u001b[0;32mtry\u001b[0m\u001b[0;34m:\u001b[0m\u001b[0;34m\u001b[0m\u001b[0;34m\u001b[0m\u001b[0m\n\u001b[0;32m-> 1619\u001b[0;31m     \u001b[0mc_op\u001b[0m \u001b[0;34m=\u001b[0m \u001b[0mc_api\u001b[0m\u001b[0;34m.\u001b[0m\u001b[0mTF_FinishOperation\u001b[0m\u001b[0;34m(\u001b[0m\u001b[0mop_desc\u001b[0m\u001b[0;34m)\u001b[0m\u001b[0;34m\u001b[0m\u001b[0;34m\u001b[0m\u001b[0m\n\u001b[0m\u001b[1;32m   1620\u001b[0m   \u001b[0;32mexcept\u001b[0m \u001b[0merrors\u001b[0m\u001b[0;34m.\u001b[0m\u001b[0mInvalidArgumentError\u001b[0m \u001b[0;32mas\u001b[0m \u001b[0me\u001b[0m\u001b[0;34m:\u001b[0m\u001b[0;34m\u001b[0m\u001b[0;34m\u001b[0m\u001b[0m\n",
      "\u001b[0;31mInvalidArgumentError\u001b[0m: Dimensions must be equal, but are 20 and 80 for 'Mul_54' (op: 'Mul') with input shapes: [?,20], [2,80].",
      "\nDuring handling of the above exception, another exception occurred:\n",
      "\u001b[0;31mValueError\u001b[0m                                Traceback (most recent call last)",
      "\u001b[0;32m<ipython-input-98-e901c4095ada>\u001b[0m in \u001b[0;36m<module>\u001b[0;34m\u001b[0m\n\u001b[1;32m      1\u001b[0m \u001b[0;31m#a=Dot(1)([linsum, tensor_ones])\u001b[0m\u001b[0;34m\u001b[0m\u001b[0;34m\u001b[0m\u001b[0;34m\u001b[0m\u001b[0m\n\u001b[1;32m      2\u001b[0m \u001b[0;34m\u001b[0m\u001b[0m\n\u001b[0;32m----> 3\u001b[0;31m \u001b[0mtf\u001b[0m\u001b[0;34m.\u001b[0m\u001b[0mmath\u001b[0m\u001b[0;34m.\u001b[0m\u001b[0mreduce_sum\u001b[0m\u001b[0;34m(\u001b[0m\u001b[0mtf\u001b[0m\u001b[0;34m.\u001b[0m\u001b[0mmath\u001b[0m\u001b[0;34m.\u001b[0m\u001b[0mmultiply\u001b[0m\u001b[0;34m(\u001b[0m\u001b[0mlinsum\u001b[0m\u001b[0;34m,\u001b[0m\u001b[0mtensor_ones\u001b[0m\u001b[0;34m)\u001b[0m\u001b[0;34m,\u001b[0m \u001b[0maxis\u001b[0m\u001b[0;34m=\u001b[0m\u001b[0;36m1\u001b[0m\u001b[0;34m)\u001b[0m\u001b[0;34m\u001b[0m\u001b[0;34m\u001b[0m\u001b[0m\n\u001b[0m",
      "\u001b[0;32m/usr/local/lib/python3.7/site-packages/tensorflow_core/python/util/dispatch.py\u001b[0m in \u001b[0;36mwrapper\u001b[0;34m(*args, **kwargs)\u001b[0m\n\u001b[1;32m    178\u001b[0m     \u001b[0;34m\"\"\"Call target, and fall back on dispatchers if there is a TypeError.\"\"\"\u001b[0m\u001b[0;34m\u001b[0m\u001b[0;34m\u001b[0m\u001b[0m\n\u001b[1;32m    179\u001b[0m     \u001b[0;32mtry\u001b[0m\u001b[0;34m:\u001b[0m\u001b[0;34m\u001b[0m\u001b[0;34m\u001b[0m\u001b[0m\n\u001b[0;32m--> 180\u001b[0;31m       \u001b[0;32mreturn\u001b[0m \u001b[0mtarget\u001b[0m\u001b[0;34m(\u001b[0m\u001b[0;34m*\u001b[0m\u001b[0margs\u001b[0m\u001b[0;34m,\u001b[0m \u001b[0;34m**\u001b[0m\u001b[0mkwargs\u001b[0m\u001b[0;34m)\u001b[0m\u001b[0;34m\u001b[0m\u001b[0;34m\u001b[0m\u001b[0m\n\u001b[0m\u001b[1;32m    181\u001b[0m     \u001b[0;32mexcept\u001b[0m \u001b[0;34m(\u001b[0m\u001b[0mTypeError\u001b[0m\u001b[0;34m,\u001b[0m \u001b[0mValueError\u001b[0m\u001b[0;34m)\u001b[0m\u001b[0;34m:\u001b[0m\u001b[0;34m\u001b[0m\u001b[0;34m\u001b[0m\u001b[0m\n\u001b[1;32m    182\u001b[0m       \u001b[0;31m# Note: convert_to_eager_tensor currently raises a ValueError, not a\u001b[0m\u001b[0;34m\u001b[0m\u001b[0;34m\u001b[0m\u001b[0;34m\u001b[0m\u001b[0m\n",
      "\u001b[0;32m/usr/local/lib/python3.7/site-packages/tensorflow_core/python/ops/math_ops.py\u001b[0m in \u001b[0;36mmultiply\u001b[0;34m(x, y, name)\u001b[0m\n\u001b[1;32m    332\u001b[0m \u001b[0;34m@\u001b[0m\u001b[0mdispatch\u001b[0m\u001b[0;34m.\u001b[0m\u001b[0madd_dispatch_support\u001b[0m\u001b[0;34m\u001b[0m\u001b[0;34m\u001b[0m\u001b[0m\n\u001b[1;32m    333\u001b[0m \u001b[0;32mdef\u001b[0m \u001b[0mmultiply\u001b[0m\u001b[0;34m(\u001b[0m\u001b[0mx\u001b[0m\u001b[0;34m,\u001b[0m \u001b[0my\u001b[0m\u001b[0;34m,\u001b[0m \u001b[0mname\u001b[0m\u001b[0;34m=\u001b[0m\u001b[0;32mNone\u001b[0m\u001b[0;34m)\u001b[0m\u001b[0;34m:\u001b[0m\u001b[0;34m\u001b[0m\u001b[0;34m\u001b[0m\u001b[0m\n\u001b[0;32m--> 334\u001b[0;31m   \u001b[0;32mreturn\u001b[0m \u001b[0mgen_math_ops\u001b[0m\u001b[0;34m.\u001b[0m\u001b[0mmul\u001b[0m\u001b[0;34m(\u001b[0m\u001b[0mx\u001b[0m\u001b[0;34m,\u001b[0m \u001b[0my\u001b[0m\u001b[0;34m,\u001b[0m \u001b[0mname\u001b[0m\u001b[0;34m)\u001b[0m\u001b[0;34m\u001b[0m\u001b[0;34m\u001b[0m\u001b[0m\n\u001b[0m\u001b[1;32m    335\u001b[0m \u001b[0;34m\u001b[0m\u001b[0m\n\u001b[1;32m    336\u001b[0m \u001b[0;34m\u001b[0m\u001b[0m\n",
      "\u001b[0;32m/usr/local/lib/python3.7/site-packages/tensorflow_core/python/ops/gen_math_ops.py\u001b[0m in \u001b[0;36mmul\u001b[0;34m(x, y, name)\u001b[0m\n\u001b[1;32m   6123\u001b[0m   \u001b[0;31m# Add nodes to the TensorFlow graph.\u001b[0m\u001b[0;34m\u001b[0m\u001b[0;34m\u001b[0m\u001b[0;34m\u001b[0m\u001b[0m\n\u001b[1;32m   6124\u001b[0m   _, _, _op, _outputs = _op_def_library._apply_op_helper(\n\u001b[0;32m-> 6125\u001b[0;31m         \"Mul\", x=x, y=y, name=name)\n\u001b[0m\u001b[1;32m   6126\u001b[0m   \u001b[0m_result\u001b[0m \u001b[0;34m=\u001b[0m \u001b[0m_outputs\u001b[0m\u001b[0;34m[\u001b[0m\u001b[0;34m:\u001b[0m\u001b[0;34m]\u001b[0m\u001b[0;34m\u001b[0m\u001b[0;34m\u001b[0m\u001b[0m\n\u001b[1;32m   6127\u001b[0m   \u001b[0;32mif\u001b[0m \u001b[0m_execute\u001b[0m\u001b[0;34m.\u001b[0m\u001b[0mmust_record_gradient\u001b[0m\u001b[0;34m(\u001b[0m\u001b[0;34m)\u001b[0m\u001b[0;34m:\u001b[0m\u001b[0;34m\u001b[0m\u001b[0;34m\u001b[0m\u001b[0m\n",
      "\u001b[0;32m/usr/local/lib/python3.7/site-packages/tensorflow_core/python/framework/op_def_library.py\u001b[0m in \u001b[0;36m_apply_op_helper\u001b[0;34m(op_type_name, name, **keywords)\u001b[0m\n\u001b[1;32m    740\u001b[0m       op = g._create_op_internal(op_type_name, inputs, dtypes=None,\n\u001b[1;32m    741\u001b[0m                                  \u001b[0mname\u001b[0m\u001b[0;34m=\u001b[0m\u001b[0mscope\u001b[0m\u001b[0;34m,\u001b[0m \u001b[0minput_types\u001b[0m\u001b[0;34m=\u001b[0m\u001b[0minput_types\u001b[0m\u001b[0;34m,\u001b[0m\u001b[0;34m\u001b[0m\u001b[0;34m\u001b[0m\u001b[0m\n\u001b[0;32m--> 742\u001b[0;31m                                  attrs=attr_protos, op_def=op_def)\n\u001b[0m\u001b[1;32m    743\u001b[0m \u001b[0;34m\u001b[0m\u001b[0m\n\u001b[1;32m    744\u001b[0m     \u001b[0;31m# `outputs` is returned as a separate return value so that the output\u001b[0m\u001b[0;34m\u001b[0m\u001b[0;34m\u001b[0m\u001b[0;34m\u001b[0m\u001b[0m\n",
      "\u001b[0;32m/usr/local/lib/python3.7/site-packages/tensorflow_core/python/framework/func_graph.py\u001b[0m in \u001b[0;36m_create_op_internal\u001b[0;34m(self, op_type, inputs, dtypes, input_types, name, attrs, op_def, compute_device)\u001b[0m\n\u001b[1;32m    593\u001b[0m     return super(FuncGraph, self)._create_op_internal(  # pylint: disable=protected-access\n\u001b[1;32m    594\u001b[0m         \u001b[0mop_type\u001b[0m\u001b[0;34m,\u001b[0m \u001b[0minputs\u001b[0m\u001b[0;34m,\u001b[0m \u001b[0mdtypes\u001b[0m\u001b[0;34m,\u001b[0m \u001b[0minput_types\u001b[0m\u001b[0;34m,\u001b[0m \u001b[0mname\u001b[0m\u001b[0;34m,\u001b[0m \u001b[0mattrs\u001b[0m\u001b[0;34m,\u001b[0m \u001b[0mop_def\u001b[0m\u001b[0;34m,\u001b[0m\u001b[0;34m\u001b[0m\u001b[0;34m\u001b[0m\u001b[0m\n\u001b[0;32m--> 595\u001b[0;31m         compute_device)\n\u001b[0m\u001b[1;32m    596\u001b[0m \u001b[0;34m\u001b[0m\u001b[0m\n\u001b[1;32m    597\u001b[0m   \u001b[0;32mdef\u001b[0m \u001b[0mcapture\u001b[0m\u001b[0;34m(\u001b[0m\u001b[0mself\u001b[0m\u001b[0;34m,\u001b[0m \u001b[0mtensor\u001b[0m\u001b[0;34m,\u001b[0m \u001b[0mname\u001b[0m\u001b[0;34m=\u001b[0m\u001b[0;32mNone\u001b[0m\u001b[0;34m,\u001b[0m \u001b[0mshape\u001b[0m\u001b[0;34m=\u001b[0m\u001b[0;32mNone\u001b[0m\u001b[0;34m)\u001b[0m\u001b[0;34m:\u001b[0m\u001b[0;34m\u001b[0m\u001b[0;34m\u001b[0m\u001b[0m\n",
      "\u001b[0;32m/usr/local/lib/python3.7/site-packages/tensorflow_core/python/framework/ops.py\u001b[0m in \u001b[0;36m_create_op_internal\u001b[0;34m(self, op_type, inputs, dtypes, input_types, name, attrs, op_def, compute_device)\u001b[0m\n\u001b[1;32m   3320\u001b[0m           \u001b[0minput_types\u001b[0m\u001b[0;34m=\u001b[0m\u001b[0minput_types\u001b[0m\u001b[0;34m,\u001b[0m\u001b[0;34m\u001b[0m\u001b[0;34m\u001b[0m\u001b[0m\n\u001b[1;32m   3321\u001b[0m           \u001b[0moriginal_op\u001b[0m\u001b[0;34m=\u001b[0m\u001b[0mself\u001b[0m\u001b[0;34m.\u001b[0m\u001b[0m_default_original_op\u001b[0m\u001b[0;34m,\u001b[0m\u001b[0;34m\u001b[0m\u001b[0;34m\u001b[0m\u001b[0m\n\u001b[0;32m-> 3322\u001b[0;31m           op_def=op_def)\n\u001b[0m\u001b[1;32m   3323\u001b[0m       \u001b[0mself\u001b[0m\u001b[0;34m.\u001b[0m\u001b[0m_create_op_helper\u001b[0m\u001b[0;34m(\u001b[0m\u001b[0mret\u001b[0m\u001b[0;34m,\u001b[0m \u001b[0mcompute_device\u001b[0m\u001b[0;34m=\u001b[0m\u001b[0mcompute_device\u001b[0m\u001b[0;34m)\u001b[0m\u001b[0;34m\u001b[0m\u001b[0;34m\u001b[0m\u001b[0m\n\u001b[1;32m   3324\u001b[0m     \u001b[0;32mreturn\u001b[0m \u001b[0mret\u001b[0m\u001b[0;34m\u001b[0m\u001b[0;34m\u001b[0m\u001b[0m\n",
      "\u001b[0;32m/usr/local/lib/python3.7/site-packages/tensorflow_core/python/framework/ops.py\u001b[0m in \u001b[0;36m__init__\u001b[0;34m(self, node_def, g, inputs, output_types, control_inputs, input_types, original_op, op_def)\u001b[0m\n\u001b[1;32m   1784\u001b[0m           op_def, inputs, node_def.attr)\n\u001b[1;32m   1785\u001b[0m       self._c_op = _create_c_op(self._graph, node_def, grouped_inputs,\n\u001b[0;32m-> 1786\u001b[0;31m                                 control_input_ops)\n\u001b[0m\u001b[1;32m   1787\u001b[0m       \u001b[0mname\u001b[0m \u001b[0;34m=\u001b[0m \u001b[0mcompat\u001b[0m\u001b[0;34m.\u001b[0m\u001b[0mas_str\u001b[0m\u001b[0;34m(\u001b[0m\u001b[0mnode_def\u001b[0m\u001b[0;34m.\u001b[0m\u001b[0mname\u001b[0m\u001b[0;34m)\u001b[0m\u001b[0;34m\u001b[0m\u001b[0;34m\u001b[0m\u001b[0m\n\u001b[1;32m   1788\u001b[0m     \u001b[0;31m# pylint: enable=protected-access\u001b[0m\u001b[0;34m\u001b[0m\u001b[0;34m\u001b[0m\u001b[0;34m\u001b[0m\u001b[0m\n",
      "\u001b[0;32m/usr/local/lib/python3.7/site-packages/tensorflow_core/python/framework/ops.py\u001b[0m in \u001b[0;36m_create_c_op\u001b[0;34m(graph, node_def, inputs, control_inputs)\u001b[0m\n\u001b[1;32m   1620\u001b[0m   \u001b[0;32mexcept\u001b[0m \u001b[0merrors\u001b[0m\u001b[0;34m.\u001b[0m\u001b[0mInvalidArgumentError\u001b[0m \u001b[0;32mas\u001b[0m \u001b[0me\u001b[0m\u001b[0;34m:\u001b[0m\u001b[0;34m\u001b[0m\u001b[0;34m\u001b[0m\u001b[0m\n\u001b[1;32m   1621\u001b[0m     \u001b[0;31m# Convert to ValueError for backwards compatibility.\u001b[0m\u001b[0;34m\u001b[0m\u001b[0;34m\u001b[0m\u001b[0;34m\u001b[0m\u001b[0m\n\u001b[0;32m-> 1622\u001b[0;31m     \u001b[0;32mraise\u001b[0m \u001b[0mValueError\u001b[0m\u001b[0;34m(\u001b[0m\u001b[0mstr\u001b[0m\u001b[0;34m(\u001b[0m\u001b[0me\u001b[0m\u001b[0;34m)\u001b[0m\u001b[0;34m)\u001b[0m\u001b[0;34m\u001b[0m\u001b[0;34m\u001b[0m\u001b[0m\n\u001b[0m\u001b[1;32m   1623\u001b[0m \u001b[0;34m\u001b[0m\u001b[0m\n\u001b[1;32m   1624\u001b[0m   \u001b[0;32mreturn\u001b[0m \u001b[0mc_op\u001b[0m\u001b[0;34m\u001b[0m\u001b[0;34m\u001b[0m\u001b[0m\n",
      "\u001b[0;31mValueError\u001b[0m: Dimensions must be equal, but are 20 and 80 for 'Mul_54' (op: 'Mul') with input shapes: [?,20], [2,80]."
     ]
    }
   ],
   "source": [
    "#a=Dot(1)([linsum, tensor_ones])\n",
    "\n",
    "tf.math.reduce_sum(tf.math.multiply(linsum,tensor_ones), axis=1)"
   ]
  },
  {
   "cell_type": "code",
   "execution_count": 16,
   "metadata": {},
   "outputs": [],
   "source": [
    "# this model maps a trajectory to its projection based on the initial condition\n",
    "autoencoder = Model(inputs=combined_in, outputs=combined_out)"
   ]
  },
  {
   "cell_type": "code",
   "execution_count": 91,
   "metadata": {},
   "outputs": [
    {
     "name": "stdout",
     "output_type": "stream",
     "text": [
      "[5, 0.02, 0.02, 0.02, 0.02, 0.02, 0.02, 0.02, 0.02, 0.02, 0.02, 0.02, 0.02, 0.02, 0.02, 0.02, 0.02, 0.02, 0.02, 0.02, 0.02, 0.02, 0.02, 0.02, 0.02, 0.02, 0.02, 0.02, 0.02, 0.02, 0.02, 0.02, 0.02, 0.02, 0.02, 0.02, 0.02, 0.02, 0.02, 0.02, 0.02, 0.02, 0.02, 0.02, 0.02, 0.02, 0.02, 0.02, 0.02, 0.02, 0.02, 2.5]\n"
     ]
    }
   ],
   "source": [
    "# to compile, prepare the weights given to different loss terms, \n",
    "# these are 1 for L_recon, 1/50 for each term in L_pred\n",
    "alpha=1\n",
    "weights=[alpha/50]*50\n",
    "weights.insert(0, alpha*5)\n",
    "weights.insert(len(weights), 1/koop_dim)\n",
    "print(weights)\n",
    "\n",
    "# now we compile with this list of weights\n",
    "autoencoder.compile(optimizer='adagrad', loss='mse', loss_weights=weights)#, metrics=['accuracy'])"
   ]
  },
  {
   "cell_type": "code",
   "execution_count": 92,
   "metadata": {},
   "outputs": [
    {
     "data": {
      "text/plain": [
       "(52, 1280000, 2)"
      ]
     },
     "execution_count": 92,
     "metadata": {},
     "output_type": "execute_result"
    }
   ],
   "source": [
    "# before training, massage the data format a bit, as the model expects a list with 51\n",
    "# arrays of dimension (trajectory_number, 2) each\n",
    "t=d_train.transpose((1,0,2))\n",
    "d=list(t)\n",
    "# this means each element of the list d represents one time step. Each element combines all trajectories and\n",
    "# two dimensions\n",
    "np.shape(d)"
   ]
  },
  {
   "cell_type": "code",
   "execution_count": 93,
   "metadata": {
    "scrolled": false
   },
   "outputs": [
    {
     "name": "stdout",
     "output_type": "stream",
     "text": [
      "Train on 640000 samples, validate on 640000 samples\n",
      "Epoch 1/5\n",
      "640000/640000 [==============================] - 318s 497us/step - loss: 2.8906 - dense_7_loss: 1.6631 - dense_8_loss: 0.5786 - dense_7_accuracy: 0.9356 - dense_7_accuracy_1: 0.9564 - dense_7_accuracy_2: 0.9672 - dense_7_accuracy_3: 0.9569 - dense_7_accuracy_4: 0.9372 - dense_7_accuracy_5: 0.9200 - dense_7_accuracy_6: 0.9072 - dense_7_accuracy_7: 0.8946 - dense_7_accuracy_8: 0.8780 - dense_7_accuracy_9: 0.8596 - dense_7_accuracy_10: 0.8335 - dense_7_accuracy_11: 0.7990 - dense_7_accuracy_12: 0.7548 - dense_7_accuracy_13: 0.6976 - dense_7_accuracy_14: 0.6340 - dense_7_accuracy_15: 0.5754 - dense_7_accuracy_16: 0.5137 - dense_7_accuracy_17: 0.4502 - dense_7_accuracy_18: 0.4236 - dense_7_accuracy_19: 0.4377 - dense_7_accuracy_20: 0.4788 - dense_7_accuracy_21: 0.5182 - dense_7_accuracy_22: 0.5423 - dense_7_accuracy_23: 0.5609 - dense_7_accuracy_24: 0.5773 - dense_7_accuracy_25: 0.5921 - dense_7_accuracy_26: 0.6044 - dense_7_accuracy_27: 0.6154 - dense_7_accuracy_28: 0.6242 - dense_7_accuracy_29: 0.6314 - dense_7_accuracy_30: 0.6376 - dense_7_accuracy_31: 0.6436 - dense_7_accuracy_32: 0.6487 - dense_7_accuracy_33: 0.6534 - dense_7_accuracy_34: 0.6576 - dense_7_accuracy_35: 0.6583 - dense_7_accuracy_36: 0.6521 - dense_7_accuracy_37: 0.6384 - dense_7_accuracy_38: 0.6194 - dense_7_accuracy_39: 0.5964 - dense_7_accuracy_40: 0.5739 - dense_7_accuracy_41: 0.5527 - dense_7_accuracy_42: 0.5331 - dense_7_accuracy_43: 0.5149 - dense_7_accuracy_44: 0.4983 - dense_7_accuracy_45: 0.4829 - dense_7_accuracy_46: 0.4688 - dense_7_accuracy_47: 0.4543 - dense_7_accuracy_48: 0.4411 - dense_7_accuracy_49: 0.4292 - dense_7_accuracy_50: 0.4185 - dense_8_accuracy: 1.0000 - val_loss: 1.4150 - val_dense_7_loss: 1.5834 - val_dense_8_loss: 0.0812 - val_dense_7_accuracy: 0.9423 - val_dense_7_accuracy_1: 0.9664 - val_dense_7_accuracy_2: 0.9855 - val_dense_7_accuracy_3: 0.9890 - val_dense_7_accuracy_4: 0.9787 - val_dense_7_accuracy_5: 0.9644 - val_dense_7_accuracy_6: 0.9483 - val_dense_7_accuracy_7: 0.9337 - val_dense_7_accuracy_8: 0.9174 - val_dense_7_accuracy_9: 0.8952 - val_dense_7_accuracy_10: 0.8660 - val_dense_7_accuracy_11: 0.8260 - val_dense_7_accuracy_12: 0.7773 - val_dense_7_accuracy_13: 0.7206 - val_dense_7_accuracy_14: 0.6373 - val_dense_7_accuracy_15: 0.5669 - val_dense_7_accuracy_16: 0.4978 - val_dense_7_accuracy_17: 0.4191 - val_dense_7_accuracy_18: 0.4001 - val_dense_7_accuracy_19: 0.4560 - val_dense_7_accuracy_20: 0.5328 - val_dense_7_accuracy_21: 0.5584 - val_dense_7_accuracy_22: 0.5770 - val_dense_7_accuracy_23: 0.5893 - val_dense_7_accuracy_24: 0.6089 - val_dense_7_accuracy_25: 0.6243 - val_dense_7_accuracy_26: 0.6362 - val_dense_7_accuracy_27: 0.6453 - val_dense_7_accuracy_28: 0.6521 - val_dense_7_accuracy_29: 0.6573 - val_dense_7_accuracy_30: 0.6618 - val_dense_7_accuracy_31: 0.6658 - val_dense_7_accuracy_32: 0.6698 - val_dense_7_accuracy_33: 0.6728 - val_dense_7_accuracy_34: 0.6745 - val_dense_7_accuracy_35: 0.6744 - val_dense_7_accuracy_36: 0.6660 - val_dense_7_accuracy_37: 0.6495 - val_dense_7_accuracy_38: 0.6272 - val_dense_7_accuracy_39: 0.6017 - val_dense_7_accuracy_40: 0.5771 - val_dense_7_accuracy_41: 0.5548 - val_dense_7_accuracy_42: 0.5334 - val_dense_7_accuracy_43: 0.5140 - val_dense_7_accuracy_44: 0.4963 - val_dense_7_accuracy_45: 0.4805 - val_dense_7_accuracy_46: 0.4656 - val_dense_7_accuracy_47: 0.4516 - val_dense_7_accuracy_48: 0.4383 - val_dense_7_accuracy_49: 0.4261 - val_dense_7_accuracy_50: 0.4158 - val_dense_8_accuracy: 1.0000\n",
      "Epoch 2/5\n",
      "640000/640000 [==============================] - 306s 477us/step - loss: 1.3645 - dense_7_loss: 1.6211 - dense_8_loss: 0.0715 - dense_7_accuracy: 0.9473 - dense_7_accuracy_1: 0.9707 - dense_7_accuracy_2: 0.9891 - dense_7_accuracy_3: 0.9888 - dense_7_accuracy_4: 0.9771 - dense_7_accuracy_5: 0.9634 - dense_7_accuracy_6: 0.9489 - dense_7_accuracy_7: 0.9353 - dense_7_accuracy_8: 0.9206 - dense_7_accuracy_9: 0.9010 - dense_7_accuracy_10: 0.8709 - dense_7_accuracy_11: 0.8307 - dense_7_accuracy_12: 0.7787 - dense_7_accuracy_13: 0.7107 - dense_7_accuracy_14: 0.6370 - dense_7_accuracy_15: 0.5685 - dense_7_accuracy_16: 0.4696 - dense_7_accuracy_17: 0.3947 - dense_7_accuracy_18: 0.3831 - dense_7_accuracy_19: 0.4254 - dense_7_accuracy_20: 0.4924 - dense_7_accuracy_21: 0.5485 - dense_7_accuracy_22: 0.5793 - dense_7_accuracy_23: 0.5997 - dense_7_accuracy_24: 0.6162 - dense_7_accuracy_25: 0.6313 - dense_7_accuracy_26: 0.6434 - dense_7_accuracy_27: 0.6536 - dense_7_accuracy_28: 0.6609 - dense_7_accuracy_29: 0.6661 - dense_7_accuracy_30: 0.6703 - dense_7_accuracy_31: 0.6740 - dense_7_accuracy_32: 0.6769 - dense_7_accuracy_33: 0.6795 - dense_7_accuracy_34: 0.6810 - dense_7_accuracy_35: 0.6770 - dense_7_accuracy_36: 0.6634 - dense_7_accuracy_37: 0.6425 - dense_7_accuracy_38: 0.6180 - dense_7_accuracy_39: 0.5914 - dense_7_accuracy_40: 0.5671 - dense_7_accuracy_41: 0.5447 - dense_7_accuracy_42: 0.5242 - dense_7_accuracy_43: 0.5052 - dense_7_accuracy_44: 0.4878 - dense_7_accuracy_45: 0.4718 - dense_7_accuracy_46: 0.4575 - dense_7_accuracy_47: 0.4431 - dense_7_accuracy_48: 0.4302 - dense_7_accuracy_49: 0.4188 - dense_7_accuracy_50: 0.4089 - dense_8_accuracy: 1.0000 - val_loss: 1.3175 - val_dense_7_loss: 1.5770 - val_dense_8_loss: 0.0619 - val_dense_7_accuracy: 0.9500 - val_dense_7_accuracy_1: 0.9709 - val_dense_7_accuracy_2: 0.9894 - val_dense_7_accuracy_3: 0.9881 - val_dense_7_accuracy_4: 0.9759 - val_dense_7_accuracy_5: 0.9632 - val_dense_7_accuracy_6: 0.9497 - val_dense_7_accuracy_7: 0.9373 - val_dense_7_accuracy_8: 0.9256 - val_dense_7_accuracy_9: 0.9058 - val_dense_7_accuracy_10: 0.8751 - val_dense_7_accuracy_11: 0.8361 - val_dense_7_accuracy_12: 0.7801 - val_dense_7_accuracy_13: 0.7088 - val_dense_7_accuracy_14: 0.6422 - val_dense_7_accuracy_15: 0.5809 - val_dense_7_accuracy_16: 0.5193 - val_dense_7_accuracy_17: 0.4485 - val_dense_7_accuracy_18: 0.4347 - val_dense_7_accuracy_19: 0.4898 - val_dense_7_accuracy_20: 0.5358 - val_dense_7_accuracy_21: 0.5555 - val_dense_7_accuracy_22: 0.5669 - val_dense_7_accuracy_23: 0.5883 - val_dense_7_accuracy_24: 0.6064 - val_dense_7_accuracy_25: 0.6212 - val_dense_7_accuracy_26: 0.6323 - val_dense_7_accuracy_27: 0.6408 - val_dense_7_accuracy_28: 0.6470 - val_dense_7_accuracy_29: 0.6516 - val_dense_7_accuracy_30: 0.6558 - val_dense_7_accuracy_31: 0.6592 - val_dense_7_accuracy_32: 0.6629 - val_dense_7_accuracy_33: 0.6656 - val_dense_7_accuracy_34: 0.6669 - val_dense_7_accuracy_35: 0.6676 - val_dense_7_accuracy_36: 0.6640 - val_dense_7_accuracy_37: 0.6506 - val_dense_7_accuracy_38: 0.6305 - val_dense_7_accuracy_39: 0.6070 - val_dense_7_accuracy_40: 0.5827 - val_dense_7_accuracy_41: 0.5604 - val_dense_7_accuracy_42: 0.5392 - val_dense_7_accuracy_43: 0.5200 - val_dense_7_accuracy_44: 0.5026 - val_dense_7_accuracy_45: 0.4870 - val_dense_7_accuracy_46: 0.4721 - val_dense_7_accuracy_47: 0.4582 - val_dense_7_accuracy_48: 0.4450 - val_dense_7_accuracy_49: 0.4331 - val_dense_7_accuracy_50: 0.4230 - val_dense_8_accuracy: 1.0000\n",
      "Epoch 3/5\n"
     ]
    },
    {
     "name": "stdout",
     "output_type": "stream",
     "text": [
      "640000/640000 [==============================] - 305s 476us/step - loss: 1.2983 - dense_7_loss: 1.6330 - dense_8_loss: 0.0603 - dense_7_accuracy: 0.9524 - dense_7_accuracy_1: 0.9721 - dense_7_accuracy_2: 0.9903 - dense_7_accuracy_3: 0.9884 - dense_7_accuracy_4: 0.9759 - dense_7_accuracy_5: 0.9632 - dense_7_accuracy_6: 0.9501 - dense_7_accuracy_7: 0.9374 - dense_7_accuracy_8: 0.9246 - dense_7_accuracy_9: 0.9047 - dense_7_accuracy_10: 0.8733 - dense_7_accuracy_11: 0.8333 - dense_7_accuracy_12: 0.7792 - dense_7_accuracy_13: 0.7099 - dense_7_accuracy_14: 0.6380 - dense_7_accuracy_15: 0.5707 - dense_7_accuracy_16: 0.4816 - dense_7_accuracy_17: 0.4004 - dense_7_accuracy_18: 0.3862 - dense_7_accuracy_19: 0.4276 - dense_7_accuracy_20: 0.4958 - dense_7_accuracy_21: 0.5509 - dense_7_accuracy_22: 0.5807 - dense_7_accuracy_23: 0.6007 - dense_7_accuracy_24: 0.6169 - dense_7_accuracy_25: 0.6322 - dense_7_accuracy_26: 0.6445 - dense_7_accuracy_27: 0.6545 - dense_7_accuracy_28: 0.6618 - dense_7_accuracy_29: 0.6674 - dense_7_accuracy_30: 0.6715 - dense_7_accuracy_31: 0.6752 - dense_7_accuracy_32: 0.6782 - dense_7_accuracy_33: 0.6807 - dense_7_accuracy_34: 0.6820 - dense_7_accuracy_35: 0.6764 - dense_7_accuracy_36: 0.6611 - dense_7_accuracy_37: 0.6392 - dense_7_accuracy_38: 0.6141 - dense_7_accuracy_39: 0.5876 - dense_7_accuracy_40: 0.5638 - dense_7_accuracy_41: 0.5417 - dense_7_accuracy_42: 0.5214 - dense_7_accuracy_43: 0.5027 - dense_7_accuracy_44: 0.4856 - dense_7_accuracy_45: 0.4698 - dense_7_accuracy_46: 0.4557 - dense_7_accuracy_47: 0.4416 - dense_7_accuracy_48: 0.4290 - dense_7_accuracy_49: 0.4178 - dense_7_accuracy_50: 0.4080 - dense_8_accuracy: 1.0000 - val_loss: 1.2713 - val_dense_7_loss: 1.5952 - val_dense_8_loss: 0.0555 - val_dense_7_accuracy: 0.9540 - val_dense_7_accuracy_1: 0.9717 - val_dense_7_accuracy_2: 0.9902 - val_dense_7_accuracy_3: 0.9884 - val_dense_7_accuracy_4: 0.9754 - val_dense_7_accuracy_5: 0.9632 - val_dense_7_accuracy_6: 0.9505 - val_dense_7_accuracy_7: 0.9377 - val_dense_7_accuracy_8: 0.9257 - val_dense_7_accuracy_9: 0.9053 - val_dense_7_accuracy_10: 0.8738 - val_dense_7_accuracy_11: 0.8351 - val_dense_7_accuracy_12: 0.7838 - val_dense_7_accuracy_13: 0.7162 - val_dense_7_accuracy_14: 0.6428 - val_dense_7_accuracy_15: 0.5777 - val_dense_7_accuracy_16: 0.5168 - val_dense_7_accuracy_17: 0.4415 - val_dense_7_accuracy_18: 0.4141 - val_dense_7_accuracy_19: 0.4629 - val_dense_7_accuracy_20: 0.5336 - val_dense_7_accuracy_21: 0.5593 - val_dense_7_accuracy_22: 0.5735 - val_dense_7_accuracy_23: 0.5893 - val_dense_7_accuracy_24: 0.6074 - val_dense_7_accuracy_25: 0.6225 - val_dense_7_accuracy_26: 0.6342 - val_dense_7_accuracy_27: 0.6436 - val_dense_7_accuracy_28: 0.6506 - val_dense_7_accuracy_29: 0.6559 - val_dense_7_accuracy_30: 0.6604 - val_dense_7_accuracy_31: 0.6644 - val_dense_7_accuracy_32: 0.6681 - val_dense_7_accuracy_33: 0.6711 - val_dense_7_accuracy_34: 0.6725 - val_dense_7_accuracy_35: 0.6729 - val_dense_7_accuracy_36: 0.6635 - val_dense_7_accuracy_37: 0.6462 - val_dense_7_accuracy_38: 0.6239 - val_dense_7_accuracy_39: 0.5990 - val_dense_7_accuracy_40: 0.5751 - val_dense_7_accuracy_41: 0.5531 - val_dense_7_accuracy_42: 0.5322 - val_dense_7_accuracy_43: 0.5132 - val_dense_7_accuracy_44: 0.4960 - val_dense_7_accuracy_45: 0.4806 - val_dense_7_accuracy_46: 0.4660 - val_dense_7_accuracy_47: 0.4524 - val_dense_7_accuracy_48: 0.4395 - val_dense_7_accuracy_49: 0.4277 - val_dense_7_accuracy_50: 0.4178 - val_dense_8_accuracy: 1.0000\n",
      "Epoch 4/5\n",
      "640000/640000 [==============================] - 300s 469us/step - loss: 1.2445 - dense_7_loss: 1.6160 - dense_8_loss: 0.0549 - dense_7_accuracy: 0.9533 - dense_7_accuracy_1: 0.9722 - dense_7_accuracy_2: 0.9903 - dense_7_accuracy_3: 0.9878 - dense_7_accuracy_4: 0.9734 - dense_7_accuracy_5: 0.9589 - dense_7_accuracy_6: 0.9436 - dense_7_accuracy_7: 0.9273 - dense_7_accuracy_8: 0.9082 - dense_7_accuracy_9: 0.8838 - dense_7_accuracy_10: 0.8502 - dense_7_accuracy_11: 0.8073 - dense_7_accuracy_12: 0.7540 - dense_7_accuracy_13: 0.6888 - dense_7_accuracy_14: 0.6140 - dense_7_accuracy_15: 0.5368 - dense_7_accuracy_16: 0.4546 - dense_7_accuracy_17: 0.3552 - dense_7_accuracy_18: 0.2933 - dense_7_accuracy_19: 0.3134 - dense_7_accuracy_20: 0.3803 - dense_7_accuracy_21: 0.4515 - dense_7_accuracy_22: 0.5124 - dense_7_accuracy_23: 0.5601 - dense_7_accuracy_24: 0.5964 - dense_7_accuracy_25: 0.6236 - dense_7_accuracy_26: 0.6435 - dense_7_accuracy_27: 0.6575 - dense_7_accuracy_28: 0.6670 - dense_7_accuracy_29: 0.6738 - dense_7_accuracy_30: 0.6789 - dense_7_accuracy_31: 0.6832 - dense_7_accuracy_32: 0.6867 - dense_7_accuracy_33: 0.6895 - dense_7_accuracy_34: 0.6900 - dense_7_accuracy_35: 0.6812 - dense_7_accuracy_36: 0.6636 - dense_7_accuracy_37: 0.6395 - dense_7_accuracy_38: 0.6127 - dense_7_accuracy_39: 0.5856 - dense_7_accuracy_40: 0.5613 - dense_7_accuracy_41: 0.5389 - dense_7_accuracy_42: 0.5183 - dense_7_accuracy_43: 0.4994 - dense_7_accuracy_44: 0.4819 - dense_7_accuracy_45: 0.4657 - dense_7_accuracy_46: 0.4510 - dense_7_accuracy_47: 0.4364 - dense_7_accuracy_48: 0.4232 - dense_7_accuracy_49: 0.4113 - dense_7_accuracy_50: 0.4007 - dense_8_accuracy: 1.0000 - val_loss: 1.2100 - val_dense_7_loss: 1.5503 - val_dense_8_loss: 0.0516 - val_dense_7_accuracy: 0.9538 - val_dense_7_accuracy_1: 0.9709 - val_dense_7_accuracy_2: 0.9898 - val_dense_7_accuracy_3: 0.9877 - val_dense_7_accuracy_4: 0.9727 - val_dense_7_accuracy_5: 0.9571 - val_dense_7_accuracy_6: 0.9405 - val_dense_7_accuracy_7: 0.9220 - val_dense_7_accuracy_8: 0.8996 - val_dense_7_accuracy_9: 0.8723 - val_dense_7_accuracy_10: 0.8374 - val_dense_7_accuracy_11: 0.7925 - val_dense_7_accuracy_12: 0.7360 - val_dense_7_accuracy_13: 0.6683 - val_dense_7_accuracy_14: 0.5932 - val_dense_7_accuracy_15: 0.5115 - val_dense_7_accuracy_16: 0.4263 - val_dense_7_accuracy_17: 0.3421 - val_dense_7_accuracy_18: 0.2562 - val_dense_7_accuracy_19: 0.2548 - val_dense_7_accuracy_20: 0.3503 - val_dense_7_accuracy_21: 0.4416 - val_dense_7_accuracy_22: 0.5108 - val_dense_7_accuracy_23: 0.5534 - val_dense_7_accuracy_24: 0.5925 - val_dense_7_accuracy_25: 0.6170 - val_dense_7_accuracy_26: 0.6319 - val_dense_7_accuracy_27: 0.6439 - val_dense_7_accuracy_28: 0.6532 - val_dense_7_accuracy_29: 0.6606 - val_dense_7_accuracy_30: 0.6675 - val_dense_7_accuracy_31: 0.6736 - val_dense_7_accuracy_32: 0.6793 - val_dense_7_accuracy_33: 0.6839 - val_dense_7_accuracy_34: 0.6874 - val_dense_7_accuracy_35: 0.6876 - val_dense_7_accuracy_36: 0.6761 - val_dense_7_accuracy_37: 0.6571 - val_dense_7_accuracy_38: 0.6330 - val_dense_7_accuracy_39: 0.6066 - val_dense_7_accuracy_40: 0.5815 - val_dense_7_accuracy_41: 0.5586 - val_dense_7_accuracy_42: 0.5365 - val_dense_7_accuracy_43: 0.5163 - val_dense_7_accuracy_44: 0.4975 - val_dense_7_accuracy_45: 0.4804 - val_dense_7_accuracy_46: 0.4638 - val_dense_7_accuracy_47: 0.4480 - val_dense_7_accuracy_48: 0.4331 - val_dense_7_accuracy_49: 0.4194 - val_dense_7_accuracy_50: 0.4072 - val_dense_8_accuracy: 1.0000\n",
      "Epoch 5/5\n"
     ]
    },
    {
     "name": "stdout",
     "output_type": "stream",
     "text": [
      "640000/640000 [==============================] - 301s 470us/step - loss: 1.1986 - dense_7_loss: 1.5761 - dense_8_loss: 0.0505 - dense_7_accuracy: 0.9553 - dense_7_accuracy_1: 0.9718 - dense_7_accuracy_2: 0.9899 - dense_7_accuracy_3: 0.9867 - dense_7_accuracy_4: 0.9715 - dense_7_accuracy_5: 0.9555 - dense_7_accuracy_6: 0.9384 - dense_7_accuracy_7: 0.9190 - dense_7_accuracy_8: 0.8954 - dense_7_accuracy_9: 0.8661 - dense_7_accuracy_10: 0.8293 - dense_7_accuracy_11: 0.7827 - dense_7_accuracy_12: 0.7258 - dense_7_accuracy_13: 0.6595 - dense_7_accuracy_14: 0.5828 - dense_7_accuracy_15: 0.4990 - dense_7_accuracy_16: 0.4111 - dense_7_accuracy_17: 0.2984 - dense_7_accuracy_18: 0.2083 - dense_7_accuracy_19: 0.2092 - dense_7_accuracy_20: 0.2710 - dense_7_accuracy_21: 0.3512 - dense_7_accuracy_22: 0.4336 - dense_7_accuracy_23: 0.5027 - dense_7_accuracy_24: 0.5560 - dense_7_accuracy_25: 0.5964 - dense_7_accuracy_26: 0.6260 - dense_7_accuracy_27: 0.6467 - dense_7_accuracy_28: 0.6607 - dense_7_accuracy_29: 0.6707 - dense_7_accuracy_30: 0.6782 - dense_7_accuracy_31: 0.6847 - dense_7_accuracy_32: 0.6899 - dense_7_accuracy_33: 0.6950 - dense_7_accuracy_34: 0.6979 - dense_7_accuracy_35: 0.6918 - dense_7_accuracy_36: 0.6755 - dense_7_accuracy_37: 0.6519 - dense_7_accuracy_38: 0.6250 - dense_7_accuracy_39: 0.5971 - dense_7_accuracy_40: 0.5719 - dense_7_accuracy_41: 0.5486 - dense_7_accuracy_42: 0.5272 - dense_7_accuracy_43: 0.5073 - dense_7_accuracy_44: 0.4885 - dense_7_accuracy_45: 0.4707 - dense_7_accuracy_46: 0.4544 - dense_7_accuracy_47: 0.4380 - dense_7_accuracy_48: 0.4230 - dense_7_accuracy_49: 0.4090 - dense_7_accuracy_50: 0.3964 - dense_8_accuracy: 1.0000 - val_loss: 1.1795 - val_dense_7_loss: 1.5479 - val_dense_8_loss: 0.0471 - val_dense_7_accuracy: 0.9576 - val_dense_7_accuracy_1: 0.9706 - val_dense_7_accuracy_2: 0.9894 - val_dense_7_accuracy_3: 0.9866 - val_dense_7_accuracy_4: 0.9715 - val_dense_7_accuracy_5: 0.9558 - val_dense_7_accuracy_6: 0.9392 - val_dense_7_accuracy_7: 0.9204 - val_dense_7_accuracy_8: 0.8976 - val_dense_7_accuracy_9: 0.8697 - val_dense_7_accuracy_10: 0.8337 - val_dense_7_accuracy_11: 0.7875 - val_dense_7_accuracy_12: 0.7321 - val_dense_7_accuracy_13: 0.6651 - val_dense_7_accuracy_14: 0.5875 - val_dense_7_accuracy_15: 0.5049 - val_dense_7_accuracy_16: 0.4171 - val_dense_7_accuracy_17: 0.3314 - val_dense_7_accuracy_18: 0.2373 - val_dense_7_accuracy_19: 0.2356 - val_dense_7_accuracy_20: 0.3251 - val_dense_7_accuracy_21: 0.4205 - val_dense_7_accuracy_22: 0.4930 - val_dense_7_accuracy_23: 0.5421 - val_dense_7_accuracy_24: 0.5850 - val_dense_7_accuracy_25: 0.6117 - val_dense_7_accuracy_26: 0.6276 - val_dense_7_accuracy_27: 0.6402 - val_dense_7_accuracy_28: 0.6497 - val_dense_7_accuracy_29: 0.6575 - val_dense_7_accuracy_30: 0.6646 - val_dense_7_accuracy_31: 0.6710 - val_dense_7_accuracy_32: 0.6773 - val_dense_7_accuracy_33: 0.6828 - val_dense_7_accuracy_34: 0.6871 - val_dense_7_accuracy_35: 0.6896 - val_dense_7_accuracy_36: 0.6796 - val_dense_7_accuracy_37: 0.6620 - val_dense_7_accuracy_38: 0.6383 - val_dense_7_accuracy_39: 0.6120 - val_dense_7_accuracy_40: 0.5865 - val_dense_7_accuracy_41: 0.5634 - val_dense_7_accuracy_42: 0.5413 - val_dense_7_accuracy_43: 0.5213 - val_dense_7_accuracy_44: 0.5027 - val_dense_7_accuracy_45: 0.4852 - val_dense_7_accuracy_46: 0.4685 - val_dense_7_accuracy_47: 0.4524 - val_dense_7_accuracy_48: 0.4371 - val_dense_7_accuracy_49: 0.4223 - val_dense_7_accuracy_50: 0.4092 - val_dense_8_accuracy: 1.0000\n"
     ]
    },
    {
     "data": {
      "text/plain": [
       "<keras.callbacks.callbacks.History at 0x2307fc6d8>"
      ]
     },
     "execution_count": 93,
     "metadata": {},
     "output_type": "execute_result"
    }
   ],
   "source": [
    "autoencoder.fit(d,\n",
    "                d,\n",
    "                epochs=5,\n",
    "                batch_size=128,\n",
    "                shuffle=False,\n",
    "                validation_split=0.5)"
   ]
  },
  {
   "cell_type": "code",
   "execution_count": null,
   "metadata": {},
   "outputs": [],
   "source": []
  },
  {
   "cell_type": "code",
   "execution_count": null,
   "metadata": {},
   "outputs": [],
   "source": []
  },
  {
   "cell_type": "code",
   "execution_count": 94,
   "metadata": {},
   "outputs": [],
   "source": [
    "test=(d_test[-1,0:10,:,:])\n",
    "zeros=np.zeros((np.shape(test)[0],1,2))\n",
    "test=np.concatenate((test, zeros), axis=1)"
   ]
  },
  {
   "cell_type": "code",
   "execution_count": 95,
   "metadata": {},
   "outputs": [
    {
     "data": {
      "text/plain": [
       "(52, 10, 2)"
      ]
     },
     "execution_count": 95,
     "metadata": {},
     "output_type": "execute_result"
    }
   ],
   "source": [
    "\n",
    "\n",
    "test=list(test[:,:,:].transpose(1,0,2))\n",
    "#test=np.zeros((51,1,2))\n",
    "#test[:,:,1]=1.9\n",
    "#test=list(test)\n",
    "np.shape(test)"
   ]
  },
  {
   "cell_type": "code",
   "execution_count": 96,
   "metadata": {},
   "outputs": [],
   "source": [
    "#autoencoder.evaluate(test, test)"
   ]
  },
  {
   "cell_type": "code",
   "execution_count": 97,
   "metadata": {},
   "outputs": [],
   "source": [
    "p=autoencoder.predict(test)\n"
   ]
  },
  {
   "cell_type": "code",
   "execution_count": 98,
   "metadata": {},
   "outputs": [
    {
     "data": {
      "text/plain": [
       "Text(0, 0.5, 'x1: position, x2:velocity')"
      ]
     },
     "execution_count": 98,
     "metadata": {},
     "output_type": "execute_result"
    },
    {
     "data": {
      "image/png": "[encoded data removed]",
      "text/plain": [
       "<Figure size 432x288 with 1 Axes>"
      ]
     },
     "metadata": {
      "needs_background": "light"
     },
     "output_type": "display_data"
    }
   ],
   "source": [
    "plt.plot(np.array(p)[0:51,0,:])\n",
    "#plt.plot(np.array(p[:,0,:]).transpose())\n",
    "plt.legend(['prediction_x1', 'prediction_x2', 'actual_x1', 'actual_x2'])\n",
    "plt.xlabel(\"time[steps]\")\n",
    "plt.ylabel('x1: position, x2:velocity')"
   ]
  },
  {
   "cell_type": "code",
   "execution_count": 100,
   "metadata": {
    "scrolled": false
   },
   "outputs": [
    {
     "data": {
      "text/plain": [
       "Text(0, 0.5, 'x1: position, x2:velocity')"
      ]
     },
     "execution_count": 100,
     "metadata": {},
     "output_type": "execute_result"
    },
    {
     "data": {
      "image/png": "[encoded data removed]",
      "text/plain": [
       "<Figure size 432x288 with 1 Axes>"
      ]
     },
     "metadata": {
      "needs_background": "light"
     },
     "output_type": "display_data"
    }
   ],
   "source": [
    "which=3\n",
    "#np.array(p).transpose(1,0,2)[0,:,:]\n",
    "plt.plot(np.array(p).transpose(1,0,2)[which,0:51,:])\n",
    "plt.plot(d_test[-1,which,0:51,:])\n",
    "#print(np.array(p).transpose(1,0,2)[which,0:51,:])\n",
    "plt.legend(['prediction_x1', 'prediction_x2', 'actual_x1', 'actual_x2'])\n",
    "plt.xlabel(\"time[steps]\")\n",
    "plt.ylabel('x1: position, x2:velocity')\n",
    "#print(np.array(p).transpose(1,0,2)[0,:,:])"
   ]
  },
  {
   "cell_type": "code",
   "execution_count": 83,
   "metadata": {
    "scrolled": true
   },
   "outputs": [
    {
     "name": "stdout",
     "output_type": "stream",
     "text": [
      "[array([[ 0.26136222, -0.9738055 ],\n",
      "       [-0.20607422,  0.7039781 ],\n",
      "       [ 0.646448  ,  0.8588275 ]], dtype=float32)]\n"
     ]
    },
    {
     "data": {
      "text/plain": [
       "0.49965330958366394"
      ]
     },
     "execution_count": 83,
     "metadata": {},
     "output_type": "execute_result"
    }
   ],
   "source": [
    "Koop=koopman.get_weights()\n",
    "print(Koop)\n",
    "Koop=np.array(Koop)\n",
    "Koop=Koop[0,0:2,:]\n",
    "sigma=np.linalg.eig(Koop)\n",
    "np.sum(np.absolute(np.array(sigma[0])))/len(sigma[0])"
   ]
  },
  {
   "cell_type": "code",
   "execution_count": 84,
   "metadata": {},
   "outputs": [
    {
     "data": {
      "text/plain": [
       "2"
      ]
     },
     "execution_count": 84,
     "metadata": {},
     "output_type": "execute_result"
    }
   ],
   "source": [
    "len(sigma[0])"
   ]
  },
  {
   "cell_type": "code",
   "execution_count": 85,
   "metadata": {},
   "outputs": [
    {
     "data": {
      "text/plain": [
       "<matplotlib.collections.PathCollection at 0x23075ab70>"
      ]
     },
     "execution_count": 85,
     "metadata": {},
     "output_type": "execute_result"
    },
    {
     "data": {
      "image/png": "[encoded data removed]",
      "text/plain": [
       "<Figure size 432x288 with 1 Axes>"
      ]
     },
     "metadata": {
      "needs_background": "light"
     },
     "output_type": "display_data"
    }
   ],
   "source": [
    "until_where=18\n",
    "t = np.linspace(0,2*np.pi,101)\n",
    "plt.plot(np.cos(t),np.sin(t))\n",
    "plt.scatter(sigma[0][0:until_where].real,sigma[0][0:until_where].imag)"
   ]
  },
  {
   "cell_type": "code",
   "execution_count": null,
   "metadata": {},
   "outputs": [],
   "source": []
  },
  {
   "cell_type": "code",
   "execution_count": null,
   "metadata": {},
   "outputs": [],
   "source": [
    "# why the short time interval lusch et al use? \n",
    "\n",
    "# do decoded() and encoded() count as hidden layers in the sense that \n",
    "# lusch et al say they use two hidden layers in the encoder and decoder?\n",
    "\n",
    "# any more elegant way than the lists I used for inputs and outputs?"
   ]
  },
  {
   "cell_type": "code",
   "execution_count": null,
   "metadata": {},
   "outputs": [],
   "source": [
    "autoencoder.save('10epochs_savemodel_linloss_luschparam.h5')\n",
    "autoencoder.save_weights('10epochs_saveweights_linloss_luschparam.h5')"
   ]
  },
  {
   "cell_type": "code",
   "execution_count": null,
   "metadata": {
    "scrolled": true
   },
   "outputs": [],
   "source": [
    "\n",
    "old_ae=load_model('10epochs_savemodel_linloss_luschparam.h5')\n",
    "old_ae.load_weights('10epochs_saveweights_linloss_luschparam.h5')"
   ]
  },
  {
   "cell_type": "code",
   "execution_count": null,
   "metadata": {},
   "outputs": [],
   "source": [
    "test=(d_test[-1,0:10,:,:])\n",
    "test=list(test[:,:,:].transpose(1,0,2))\n",
    "np.shape(test)\n",
    "#old_ae.summary()\n",
    "p=old_ae.predict(np.array([[0.5,0.2],[0.4,0.1]]))"
   ]
  },
  {
   "cell_type": "code",
   "execution_count": null,
   "metadata": {},
   "outputs": [],
   "source": [
    "k=koopman.get_weights()\n",
    "k=np.array(k)\n",
    "k=k[0,:,:]\n",
    "k.shape\n",
    "pigma=np.linalg.eig(k)\n",
    "np.array(pigma[0])"
   ]
  },
  {
   "cell_type": "code",
   "execution_count": null,
   "metadata": {},
   "outputs": [],
   "source": [
    "L=old_ae.layers[4].get_weights()"
   ]
  },
  {
   "cell_type": "code",
   "execution_count": null,
   "metadata": {},
   "outputs": [],
   "source": [
    "L"
   ]
  },
  {
   "cell_type": "code",
   "execution_count": null,
   "metadata": {},
   "outputs": [],
   "source": []
  }
 ],
 "metadata": {
  "kernelspec": {
   "display_name": "Python 3",
   "language": "python",
   "name": "python3"
  },
  "language_info": {
   "codemirror_mode": {
    "name": "ipython",
    "version": 3
   },
   "file_extension": ".py",
   "mimetype": "text/x-python",
   "name": "python",
   "nbconvert_exporter": "python",
   "pygments_lexer": "ipython3",
   "version": "3.7.2"
  }
 },
 "nbformat": 4,
 "nbformat_minor": 2
}
